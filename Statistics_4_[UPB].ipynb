{
  "nbformat": 4,
  "nbformat_minor": 0,
  "metadata": {
    "colab": {
      "provenance": [],
      "include_colab_link": true
    },
    "kernelspec": {
      "name": "python3",
      "display_name": "Python 3"
    }
  },
  "cells": [
    {
      "cell_type": "markdown",
      "metadata": {
        "id": "view-in-github",
        "colab_type": "text"
      },
      "source": [
        "<a href=\"https://colab.research.google.com/github/Kenny08DA/Datasets/blob/main/Statistics_4_%5BUPB%5D.ipynb\" target=\"_parent\"><img src=\"https://colab.research.google.com/assets/colab-badge.svg\" alt=\"Open In Colab\"/></a>"
      ]
    },
    {
      "cell_type": "code",
      "metadata": {
        "id": "UoP8mZis7S_S"
      },
      "source": [
        "# Importar las librerias necesarias\n",
        "import pandas as pd\n",
        "import numpy as np\n",
        "import matplotlib as mpl\n",
        "import matplotlib.pyplot as plt\n",
        "# import seaborn as sns\n",
        "\n",
        "%matplotlib inline"
      ],
      "execution_count": null,
      "outputs": []
    },
    {
      "cell_type": "code",
      "metadata": {
        "id": "i2Mjx6mRAr1J"
      },
      "source": [
        "mpl.style.use(['ggplot'])"
      ],
      "execution_count": null,
      "outputs": []
    },
    {
      "cell_type": "code",
      "metadata": {
        "id": "Y5B2wCGW7ZhW"
      },
      "source": [
        "df = pd.read_csv(\"https://covid.ourworldindata.org/data/owid-covid-data.csv\")\n",
        "df.sample(10)"
      ],
      "execution_count": null,
      "outputs": []
    },
    {
      "cell_type": "code",
      "metadata": {
        "id": "YumMXVOeBRQM"
      },
      "source": [
        "df.info()"
      ],
      "execution_count": null,
      "outputs": []
    },
    {
      "cell_type": "code",
      "metadata": {
        "id": "SaU2nEK87eQo"
      },
      "source": [
        "df.shape"
      ],
      "execution_count": null,
      "outputs": []
    },
    {
      "cell_type": "code",
      "metadata": {
        "id": "_GGQHrZF7hsh"
      },
      "source": [
        "df.columns"
      ],
      "execution_count": null,
      "outputs": []
    },
    {
      "cell_type": "code",
      "metadata": {
        "id": "I_VZDD1z8MoD"
      },
      "source": [
        "# Creamos un nuevo Dataframe con las columnas de interes\n",
        "\n",
        "df_covid = df[['iso_code', 'continent', 'location', 'date', 'total_cases', 'new_cases',\n",
        "               'total_deaths', 'new_deaths', 'new_tests', 'total_tests', 'tests_per_case',\n",
        "               'positive_rate', 'tests_units', 'stringency_index', 'population',\n",
        "               'population_density', 'median_age', 'aged_65_older', 'aged_70_older',\n",
        "               'gdp_per_capita', 'extreme_poverty', 'cardiovasc_death_rate',\n",
        "               'diabetes_prevalence', 'female_smokers', 'male_smokers',\n",
        "               'handwashing_facilities', 'hospital_beds_per_thousand', 'life_expectancy']]\n",
        "df_covid.head()"
      ],
      "execution_count": null,
      "outputs": []
    },
    {
      "cell_type": "code",
      "metadata": {
        "id": "QKveSSzpB7vr"
      },
      "source": [
        "# Identificamos Missing Values\n",
        "\n",
        "missing_data = df_covid.isnull()\n",
        "missing_data.head()"
      ],
      "execution_count": null,
      "outputs": []
    },
    {
      "cell_type": "code",
      "metadata": {
        "id": "eb6J-g97B8IC"
      },
      "source": [
        "# for column in missing_data.columns.values.tolist():\n",
        "#   print(column)\n",
        "#   print(missing_data[column].value_counts())\n",
        "#   print(\"\")"
      ],
      "execution_count": null,
      "outputs": []
    },
    {
      "cell_type": "code",
      "metadata": {
        "id": "UgwYvyJsB8Ld"
      },
      "source": [
        "# Nos vamos a quedar solo con las columnas de los paises, vamos a ignorar las agregaciones\n",
        "to_drop = df_covid[df_covid['continent'].isnull()]\n",
        "df_covid.drop(axis = 0, index = to_drop.index, inplace = True)\n",
        "\n",
        "to_drop"
      ],
      "execution_count": null,
      "outputs": []
    },
    {
      "cell_type": "code",
      "metadata": {
        "id": "iEew688cB71L"
      },
      "source": [
        "# Aplicaremos una transformación básica a los datos\n",
        "df_covid[\"date\"] = pd.to_datetime(df_covid[\"date\"], format=\"%Y-%m-%d\")\n",
        "# Completaremos con 0 los valores nulos en las columnas : \"new_cases\", \"new_deaths\", \"new_tests\"\n",
        "df_covid[[\"new_cases\", \"new_deaths\", \"new_tests\"]] = df_covid[[\"new_cases\", \"new_deaths\", \"new_tests\"]].fillna(0)\n"
      ],
      "execution_count": null,
      "outputs": []
    },
    {
      "cell_type": "markdown",
      "source": [
        "Tenemos nulos en total_cases? total_deaths ? total_tests ?"
      ],
      "metadata": {
        "id": "zDXAjhzDMPf1"
      }
    },
    {
      "cell_type": "code",
      "metadata": {
        "id": "90uFMVqhB7n3"
      },
      "source": [
        "# Para llenar los valores perdidos vamos a corregir las sumas acumuladas\n",
        "df_covid_cleaned = pd.DataFrame()\n",
        "for country in df_covid[\"iso_code\"].unique():\n",
        "  # print(country)\n",
        "  df_country = df_covid[df_covid[\"iso_code\"] == country].sort_values([\"date\"]).copy()\n",
        "\n",
        "  df_country[\"total_cases\"] = df_country[\"new_cases\"].cumsum()\n",
        "  df_country[\"total_deaths\"] = df_country[\"new_deaths\"].cumsum()\n",
        "  df_country[\"total_tests\"] = df_country[\"new_tests\"].cumsum()\n",
        "\n",
        "  # df_covid_cleaned = df_covid_cleaned.append(df_country,ignore_index=True)\n",
        "  df_covid_cleaned = pd.concat([df_covid_cleaned, df_country ], ignore_index=True)\n"
      ],
      "execution_count": null,
      "outputs": []
    },
    {
      "cell_type": "code",
      "metadata": {
        "id": "GMleP1hAB7lP"
      },
      "source": [
        "df_covid = df_covid_cleaned.copy()"
      ],
      "execution_count": null,
      "outputs": []
    },
    {
      "cell_type": "code",
      "metadata": {
        "id": "t-Zad9kmU_7V"
      },
      "source": [
        "# Analicemos la data de Bolivia\n",
        "df_bolivia = df_covid[df_covid[\"iso_code\"] == \"BOL\"]\n",
        "df_bolivia.tail(10)"
      ],
      "execution_count": null,
      "outputs": []
    },
    {
      "cell_type": "code",
      "metadata": {
        "id": "zsg5acIXVISQ"
      },
      "source": [
        "import plotly.express as px\n",
        "px.line(df_bolivia, x='date', y='total_cases')"
      ],
      "execution_count": null,
      "outputs": []
    },
    {
      "cell_type": "code",
      "metadata": {
        "id": "Neu6PaSrWrFY"
      },
      "source": [
        "# Analicemos los datos de south america\n",
        "df_sa = df_covid.loc[df_covid['continent'] == \"South America\", ['date','iso_code', 'new_cases']]\n",
        "df_sa = df_sa.pivot(index=\"date\", columns=\"iso_code\", values=\"new_cases\")\n",
        "\n",
        "df_sa.plot(kind = 'area',\n",
        "             stacked = False,\n",
        "             figsize = (20, 10))\n",
        "\n",
        "plt.title('Casos nuevos por pais')\n",
        "plt.ylabel('Casos nuevos')\n",
        "plt.xlabel('Fecha')\n",
        "\n",
        "plt.show()\n"
      ],
      "execution_count": null,
      "outputs": []
    },
    {
      "cell_type": "markdown",
      "metadata": {
        "id": "qtKPpiC4bQvZ"
      },
      "source": [
        "Tarea\n",
        "- Genera el line plot para Ecuador"
      ]
    },
    {
      "cell_type": "code",
      "metadata": {
        "id": "329Fyyd7Xd4I"
      },
      "source": [
        "px.bar(df_bolivia, x='date', y='total_deaths')"
      ],
      "execution_count": null,
      "outputs": []
    },
    {
      "cell_type": "code",
      "metadata": {
        "id": "nQSK6XmKaeOl"
      },
      "source": [
        "df_bolivia.head()"
      ],
      "execution_count": null,
      "outputs": []
    },
    {
      "cell_type": "code",
      "metadata": {
        "id": "syxN-oA-chMm"
      },
      "source": [
        "df_BO = df_bolivia[['date', 'new_cases', 'new_deaths', 'new_tests']].set_index('date')\n",
        "df_BO.head()"
      ],
      "execution_count": null,
      "outputs": []
    },
    {
      "cell_type": "code",
      "metadata": {
        "id": "zCK9HjybefLt"
      },
      "source": [
        "df_BO.plot(kind = 'line', figsize = (10, 6), color = [ 'red', 'darkblue', 'mediumseagreen'])\n",
        "plt.show()"
      ],
      "execution_count": null,
      "outputs": []
    },
    {
      "cell_type": "code",
      "metadata": {
        "id": "eNlA4Snmgrfl"
      },
      "source": [
        "# Por pais, vamos a obtener la informacion del ultimo dia\n",
        "df_latest_day = df_covid.sort_values([\"iso_code\", \"date\"], ascending=False).drop_duplicates([\"iso_code\"], keep='first')\n",
        "df_latest_day"
      ],
      "execution_count": null,
      "outputs": []
    },
    {
      "cell_type": "code",
      "metadata": {
        "id": "KyOVX1RXh5_g"
      },
      "source": [
        "top_countries = df_latest_day[[\"location\", \"total_cases\"]].set_index(\"location\").sort_values('total_cases', ascending=True).tail(15)\n",
        "top_countries.plot(kind = 'barh', figsize = (16, 12), color = 'steelblue')\n",
        "\n",
        "plt.title('Top 15 de paises con mayor cantidad de casos')\n",
        "plt.xlabel('Numero de infectados')\n",
        "\n",
        "for index, value in enumerate(top_countries[\"total_cases\"]):\n",
        "    label = format(int(value), ',') # format int with commas\n",
        "\n",
        "    plt.annotate(label, xy = (value, index - 0.1), color = 'black')\n",
        "\n",
        "plt.show()"
      ],
      "execution_count": null,
      "outputs": []
    },
    {
      "cell_type": "code",
      "metadata": {
        "id": "_vPYhMNhiVP5"
      },
      "source": [
        "df_latest_day_continent = df_latest_day.drop(columns=['date']).groupby(\"continent\").sum()"
      ],
      "execution_count": null,
      "outputs": []
    },
    {
      "cell_type": "code",
      "metadata": {
        "id": "Y-3xDXtRl6rF"
      },
      "source": [
        "df_latest_day_continent"
      ],
      "execution_count": null,
      "outputs": []
    },
    {
      "cell_type": "code",
      "metadata": {
        "id": "y2DfqkhvmHTy"
      },
      "source": [
        "colors_list = ['gold', 'yellowgreen', 'lightcoral', 'lightskyblue', 'lightgreen', 'pink']\n",
        "explode_list = [0, 0, 0, 0.1, 0, 0.1] # Ratio for each continent with which to offset each wedge\n",
        "\n",
        "df_latest_day_continent['total_cases'].plot(kind = 'pie',\n",
        "                            figsize = (15,6),\n",
        "                            autopct = '%1.1f%%',\n",
        "                            startangle = 90,\n",
        "                            shadow = True,\n",
        "                            labels = None,           # Turn off labels on pie chart\n",
        "                            pctdistance = 1.12,      # The ratio between the center of each pie slice and the start of the next text generated by autopct\n",
        "                            colors = colors_list,      # Add custom colors\n",
        "                            explode = explode_list   # 'explode' lowest 3 continents\n",
        "                           )\n",
        "\n",
        "\n",
        "# scale the title up by 12% to match pctdistance\n",
        "\n",
        "plt.title('Porcentaje de infectados por continente', y = 1.12)\n",
        "\n",
        "plt.axis('equal')\n",
        "\n",
        "\n",
        "\n",
        "plt.legend(labels = df_latest_day_continent.index, loc = 'upper left')\n",
        "\n",
        "plt.show()"
      ],
      "execution_count": null,
      "outputs": []
    },
    {
      "cell_type": "code",
      "metadata": {
        "id": "TcSA7TVPmVq1"
      },
      "source": [
        "df_tests = df_covid.loc[df_covid['continent'] == \"South America\", ['date','iso_code', 'new_tests']]\n",
        "df_tests"
      ],
      "execution_count": null,
      "outputs": []
    },
    {
      "cell_type": "code",
      "metadata": {
        "id": "YlO258jOndHo"
      },
      "source": [
        "px.box(df_tests, x='iso_code', y='new_tests', orientation='v',  )"
      ],
      "execution_count": null,
      "outputs": []
    },
    {
      "cell_type": "code",
      "metadata": {
        "id": "QlfYvqSdqGK_"
      },
      "source": [],
      "execution_count": null,
      "outputs": []
    }
  ]
}